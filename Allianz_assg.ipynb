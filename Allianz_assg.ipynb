{
 "cells": [
  {
   "cell_type": "code",
   "execution_count": 317,
   "metadata": {},
   "outputs": [],
   "source": [
    "#import neccessary modules\n",
    "import pandas as pd \n",
    "import numpy as np\n",
    "import seaborn as sns\n",
    "import matplotlib.pyplot as plt\n",
    "from sklearn.model_selection import train_test_split\n",
    "from sklearn.model_selection import GridSearchCV\n",
    "from sklearn.ensemble import RandomForestClassifier, GradientBoostingClassifier\n",
    "from sklearn.metrics import accuracy_score, roc_curve, roc_auc_score, confusion_matrix\n",
    "import keras\n",
    "import tensorflow as tf\n",
    "from keras.layers import Dense, Dropout\n",
    "from keras.models import Sequential\n",
    "from keras.callbacks import EarlyStopping\n",
    "from tensorflow.keras.optimizers import Adam,SGD, RMSprop"
   ]
  },
  {
   "cell_type": "code",
   "execution_count": 131,
   "metadata": {},
   "outputs": [],
   "source": [
    "#load data\n",
    "data = pd.read_excel(r\"hit_ratio_model.xlsx\",sheet_name=1)"
   ]
  },
  {
   "cell_type": "code",
   "execution_count": 132,
   "metadata": {},
   "outputs": [
    {
     "data": {
      "text/html": [
       "<div>\n",
       "<style scoped>\n",
       "    .dataframe tbody tr th:only-of-type {\n",
       "        vertical-align: middle;\n",
       "    }\n",
       "\n",
       "    .dataframe tbody tr th {\n",
       "        vertical-align: top;\n",
       "    }\n",
       "\n",
       "    .dataframe thead th {\n",
       "        text-align: right;\n",
       "    }\n",
       "</style>\n",
       "<table border=\"1\" class=\"dataframe\">\n",
       "  <thead>\n",
       "    <tr style=\"text-align: right;\">\n",
       "      <th></th>\n",
       "      <th>ID</th>\n",
       "      <th>V_S_CARAGE</th>\n",
       "      <th>PH_ADD_S_REGION</th>\n",
       "      <th>PH_S_AGE</th>\n",
       "      <th>V_S_ENGCAPACITY</th>\n",
       "      <th>V_S_ENGPOWER</th>\n",
       "      <th>C_N_AZ_RANK</th>\n",
       "      <th>Q_N_SUCCESS</th>\n",
       "      <th>C_AZ_PREMIUM</th>\n",
       "    </tr>\n",
       "  </thead>\n",
       "  <tbody>\n",
       "    <tr>\n",
       "      <th>0</th>\n",
       "      <td>1</td>\n",
       "      <td>01) 0</td>\n",
       "      <td>5 - Zilinsky</td>\n",
       "      <td>43) 57</td>\n",
       "      <td>06) 1300  -  1400</td>\n",
       "      <td>12) 90  -  95</td>\n",
       "      <td>11</td>\n",
       "      <td>1</td>\n",
       "      <td>100</td>\n",
       "    </tr>\n",
       "    <tr>\n",
       "      <th>1</th>\n",
       "      <td>2</td>\n",
       "      <td>06) 5</td>\n",
       "      <td>3 - Trenciansky</td>\n",
       "      <td>11) 25</td>\n",
       "      <td>12) 1900  -  2000</td>\n",
       "      <td>18) 130  -  140</td>\n",
       "      <td>11</td>\n",
       "      <td>1</td>\n",
       "      <td>220</td>\n",
       "    </tr>\n",
       "    <tr>\n",
       "      <th>2</th>\n",
       "      <td>3</td>\n",
       "      <td>06) 5</td>\n",
       "      <td>7 - Presovsky</td>\n",
       "      <td>43) 57</td>\n",
       "      <td>12) 1900  -  2000</td>\n",
       "      <td>14) 100  -  105</td>\n",
       "      <td>11</td>\n",
       "      <td>1</td>\n",
       "      <td>140</td>\n",
       "    </tr>\n",
       "    <tr>\n",
       "      <th>3</th>\n",
       "      <td>4</td>\n",
       "      <td>08) 7</td>\n",
       "      <td>7 - Presovsky</td>\n",
       "      <td>51) 65</td>\n",
       "      <td>08) 1500  -  1600</td>\n",
       "      <td>10) 80  -  85</td>\n",
       "      <td>11</td>\n",
       "      <td>1</td>\n",
       "      <td>110</td>\n",
       "    </tr>\n",
       "    <tr>\n",
       "      <th>4</th>\n",
       "      <td>5</td>\n",
       "      <td>13) 12</td>\n",
       "      <td>5 - Zilinsky</td>\n",
       "      <td>55) 69</td>\n",
       "      <td>08) 1500  -  1600</td>\n",
       "      <td>07) 65  -  70</td>\n",
       "      <td>11</td>\n",
       "      <td>1</td>\n",
       "      <td>190</td>\n",
       "    </tr>\n",
       "  </tbody>\n",
       "</table>\n",
       "</div>"
      ],
      "text/plain": [
       "   ID V_S_CARAGE  PH_ADD_S_REGION PH_S_AGE     V_S_ENGCAPACITY  \\\n",
       "0   1      01) 0     5 - Zilinsky   43) 57  06) 1300  -  1400    \n",
       "1   2      06) 5  3 - Trenciansky   11) 25  12) 1900  -  2000    \n",
       "2   3      06) 5    7 - Presovsky   43) 57  12) 1900  -  2000    \n",
       "3   4      08) 7    7 - Presovsky   51) 65  08) 1500  -  1600    \n",
       "4   5     13) 12     5 - Zilinsky   55) 69  08) 1500  -  1600    \n",
       "\n",
       "       V_S_ENGPOWER  C_N_AZ_RANK  Q_N_SUCCESS  C_AZ_PREMIUM  \n",
       "0    12) 90  -  95            11            1           100  \n",
       "1  18) 130  -  140            11            1           220  \n",
       "2  14) 100  -  105            11            1           140  \n",
       "3    10) 80  -  85            11            1           110  \n",
       "4    07) 65  -  70            11            1           190  "
      ]
     },
     "execution_count": 132,
     "metadata": {},
     "output_type": "execute_result"
    }
   ],
   "source": [
    "#check data\n",
    "data.head()"
   ]
  },
  {
   "cell_type": "code",
   "execution_count": 167,
   "metadata": {},
   "outputs": [
    {
     "name": "stdout",
     "output_type": "stream",
     "text": [
      "Number of rows: 1000\n",
      "Number of columns: 9\n",
      "Number of duplicated rows: 0\n"
     ]
    }
   ],
   "source": [
    "print(f\"Number of rows: {data.shape[0]}\")\n",
    "print(f\"Number of columns: {data.shape[1]}\")\n",
    "print(f\"Number of duplicated rows: {data.duplicated().sum()}\")"
   ]
  },
  {
   "cell_type": "code",
   "execution_count": 135,
   "metadata": {},
   "outputs": [
    {
     "data": {
      "text/plain": [
       "ID                  int64\n",
       "V_S_CARAGE         object\n",
       "PH_ADD_S_REGION    object\n",
       "PH_S_AGE           object\n",
       "V_S_ENGCAPACITY    object\n",
       "V_S_ENGPOWER       object\n",
       "C_N_AZ_RANK         int64\n",
       "Q_N_SUCCESS         int64\n",
       "C_AZ_PREMIUM        int64\n",
       "dtype: object"
      ]
     },
     "execution_count": 135,
     "metadata": {},
     "output_type": "execute_result"
    }
   ],
   "source": [
    "#check data types\n",
    "data.dtypes"
   ]
  },
  {
   "cell_type": "code",
   "execution_count": 145,
   "metadata": {},
   "outputs": [
    {
     "data": {
      "text/plain": [
       "ID                 1000\n",
       "V_S_CARAGE           22\n",
       "PH_ADD_S_REGION       8\n",
       "PH_S_AGE             58\n",
       "V_S_ENGCAPACITY      15\n",
       "V_S_ENGPOWER         21\n",
       "C_N_AZ_RANK           9\n",
       "Q_N_SUCCESS           2\n",
       "C_AZ_PREMIUM        107\n",
       "dtype: int64"
      ]
     },
     "execution_count": 145,
     "metadata": {},
     "output_type": "execute_result"
    }
   ],
   "source": [
    "#check number of bins \n",
    "data.nunique()"
   ]
  },
  {
   "cell_type": "code",
   "execution_count": 146,
   "metadata": {},
   "outputs": [
    {
     "data": {
      "text/plain": [
       "ID                 0\n",
       "V_S_CARAGE         0\n",
       "PH_ADD_S_REGION    0\n",
       "PH_S_AGE           0\n",
       "V_S_ENGCAPACITY    0\n",
       "V_S_ENGPOWER       0\n",
       "C_N_AZ_RANK        0\n",
       "Q_N_SUCCESS        0\n",
       "C_AZ_PREMIUM       0\n",
       "dtype: int64"
      ]
     },
     "execution_count": 146,
     "metadata": {},
     "output_type": "execute_result"
    }
   ],
   "source": [
    "#check number of missing values\n",
    "data.isna().sum()"
   ]
  },
  {
   "cell_type": "code",
   "execution_count": 152,
   "metadata": {},
   "outputs": [],
   "source": [
    "#get dummy variables out of variable Region\n",
    "region_dummy = pd.get_dummies(data[\"PH_ADD_S_REGION\"]).drop(\"8 - Kosicky\",axis=1)\n",
    "#exclude variable Region from data\n",
    "data_NoRegion = data.drop(\"PH_ADD_S_REGION\",axis=1)"
   ]
  },
  {
   "cell_type": "code",
   "execution_count": 151,
   "metadata": {},
   "outputs": [
    {
     "data": {
      "text/html": [
       "<div>\n",
       "<style scoped>\n",
       "    .dataframe tbody tr th:only-of-type {\n",
       "        vertical-align: middle;\n",
       "    }\n",
       "\n",
       "    .dataframe tbody tr th {\n",
       "        vertical-align: top;\n",
       "    }\n",
       "\n",
       "    .dataframe thead th {\n",
       "        text-align: right;\n",
       "    }\n",
       "</style>\n",
       "<table border=\"1\" class=\"dataframe\">\n",
       "  <thead>\n",
       "    <tr style=\"text-align: right;\">\n",
       "      <th></th>\n",
       "      <th>1 - Bratislavsky</th>\n",
       "      <th>2 - Trnavsky</th>\n",
       "      <th>3 - Trenciansky</th>\n",
       "      <th>4 - Nitriansky</th>\n",
       "      <th>5 - Zilinsky</th>\n",
       "      <th>6 - Banskobystricky</th>\n",
       "      <th>7 - Presovsky</th>\n",
       "    </tr>\n",
       "  </thead>\n",
       "  <tbody>\n",
       "    <tr>\n",
       "      <th>0</th>\n",
       "      <td>0</td>\n",
       "      <td>0</td>\n",
       "      <td>0</td>\n",
       "      <td>0</td>\n",
       "      <td>1</td>\n",
       "      <td>0</td>\n",
       "      <td>0</td>\n",
       "    </tr>\n",
       "    <tr>\n",
       "      <th>1</th>\n",
       "      <td>0</td>\n",
       "      <td>0</td>\n",
       "      <td>1</td>\n",
       "      <td>0</td>\n",
       "      <td>0</td>\n",
       "      <td>0</td>\n",
       "      <td>0</td>\n",
       "    </tr>\n",
       "    <tr>\n",
       "      <th>2</th>\n",
       "      <td>0</td>\n",
       "      <td>0</td>\n",
       "      <td>0</td>\n",
       "      <td>0</td>\n",
       "      <td>0</td>\n",
       "      <td>0</td>\n",
       "      <td>1</td>\n",
       "    </tr>\n",
       "    <tr>\n",
       "      <th>3</th>\n",
       "      <td>0</td>\n",
       "      <td>0</td>\n",
       "      <td>0</td>\n",
       "      <td>0</td>\n",
       "      <td>0</td>\n",
       "      <td>0</td>\n",
       "      <td>1</td>\n",
       "    </tr>\n",
       "    <tr>\n",
       "      <th>4</th>\n",
       "      <td>0</td>\n",
       "      <td>0</td>\n",
       "      <td>0</td>\n",
       "      <td>0</td>\n",
       "      <td>1</td>\n",
       "      <td>0</td>\n",
       "      <td>0</td>\n",
       "    </tr>\n",
       "  </tbody>\n",
       "</table>\n",
       "</div>"
      ],
      "text/plain": [
       "   1 - Bratislavsky  2 - Trnavsky  3 - Trenciansky  4 - Nitriansky  \\\n",
       "0                 0             0                0               0   \n",
       "1                 0             0                1               0   \n",
       "2                 0             0                0               0   \n",
       "3                 0             0                0               0   \n",
       "4                 0             0                0               0   \n",
       "\n",
       "   5 - Zilinsky  6 - Banskobystricky  7 - Presovsky  \n",
       "0             1                    0              0  \n",
       "1             0                    0              0  \n",
       "2             0                    0              1  \n",
       "3             0                    0              1  \n",
       "4             1                    0              0  "
      ]
     },
     "execution_count": 151,
     "metadata": {},
     "output_type": "execute_result"
    }
   ],
   "source": [
    "region_dummy.head()"
   ]
  },
  {
   "cell_type": "code",
   "execution_count": 153,
   "metadata": {},
   "outputs": [
    {
     "data": {
      "text/html": [
       "<div>\n",
       "<style scoped>\n",
       "    .dataframe tbody tr th:only-of-type {\n",
       "        vertical-align: middle;\n",
       "    }\n",
       "\n",
       "    .dataframe tbody tr th {\n",
       "        vertical-align: top;\n",
       "    }\n",
       "\n",
       "    .dataframe thead th {\n",
       "        text-align: right;\n",
       "    }\n",
       "</style>\n",
       "<table border=\"1\" class=\"dataframe\">\n",
       "  <thead>\n",
       "    <tr style=\"text-align: right;\">\n",
       "      <th></th>\n",
       "      <th>ID</th>\n",
       "      <th>V_S_CARAGE</th>\n",
       "      <th>PH_S_AGE</th>\n",
       "      <th>V_S_ENGCAPACITY</th>\n",
       "      <th>V_S_ENGPOWER</th>\n",
       "      <th>C_N_AZ_RANK</th>\n",
       "      <th>Q_N_SUCCESS</th>\n",
       "      <th>C_AZ_PREMIUM</th>\n",
       "    </tr>\n",
       "  </thead>\n",
       "  <tbody>\n",
       "    <tr>\n",
       "      <th>0</th>\n",
       "      <td>1</td>\n",
       "      <td>01) 0</td>\n",
       "      <td>43) 57</td>\n",
       "      <td>06) 1300  -  1400</td>\n",
       "      <td>12) 90  -  95</td>\n",
       "      <td>11</td>\n",
       "      <td>1</td>\n",
       "      <td>100</td>\n",
       "    </tr>\n",
       "    <tr>\n",
       "      <th>1</th>\n",
       "      <td>2</td>\n",
       "      <td>06) 5</td>\n",
       "      <td>11) 25</td>\n",
       "      <td>12) 1900  -  2000</td>\n",
       "      <td>18) 130  -  140</td>\n",
       "      <td>11</td>\n",
       "      <td>1</td>\n",
       "      <td>220</td>\n",
       "    </tr>\n",
       "    <tr>\n",
       "      <th>2</th>\n",
       "      <td>3</td>\n",
       "      <td>06) 5</td>\n",
       "      <td>43) 57</td>\n",
       "      <td>12) 1900  -  2000</td>\n",
       "      <td>14) 100  -  105</td>\n",
       "      <td>11</td>\n",
       "      <td>1</td>\n",
       "      <td>140</td>\n",
       "    </tr>\n",
       "    <tr>\n",
       "      <th>3</th>\n",
       "      <td>4</td>\n",
       "      <td>08) 7</td>\n",
       "      <td>51) 65</td>\n",
       "      <td>08) 1500  -  1600</td>\n",
       "      <td>10) 80  -  85</td>\n",
       "      <td>11</td>\n",
       "      <td>1</td>\n",
       "      <td>110</td>\n",
       "    </tr>\n",
       "    <tr>\n",
       "      <th>4</th>\n",
       "      <td>5</td>\n",
       "      <td>13) 12</td>\n",
       "      <td>55) 69</td>\n",
       "      <td>08) 1500  -  1600</td>\n",
       "      <td>07) 65  -  70</td>\n",
       "      <td>11</td>\n",
       "      <td>1</td>\n",
       "      <td>190</td>\n",
       "    </tr>\n",
       "  </tbody>\n",
       "</table>\n",
       "</div>"
      ],
      "text/plain": [
       "   ID V_S_CARAGE PH_S_AGE     V_S_ENGCAPACITY      V_S_ENGPOWER  C_N_AZ_RANK  \\\n",
       "0   1      01) 0   43) 57  06) 1300  -  1400     12) 90  -  95            11   \n",
       "1   2      06) 5   11) 25  12) 1900  -  2000   18) 130  -  140            11   \n",
       "2   3      06) 5   43) 57  12) 1900  -  2000   14) 100  -  105            11   \n",
       "3   4      08) 7   51) 65  08) 1500  -  1600     10) 80  -  85            11   \n",
       "4   5     13) 12   55) 69  08) 1500  -  1600     07) 65  -  70            11   \n",
       "\n",
       "   Q_N_SUCCESS  C_AZ_PREMIUM  \n",
       "0            1           100  \n",
       "1            1           220  \n",
       "2            1           140  \n",
       "3            1           110  \n",
       "4            1           190  "
      ]
     },
     "execution_count": 153,
     "metadata": {},
     "output_type": "execute_result"
    }
   ],
   "source": [
    "data_NoRegion.head()"
   ]
  },
  {
   "cell_type": "code",
   "execution_count": 158,
   "metadata": {},
   "outputs": [],
   "source": [
    "#define function for extracting bin number from binned variable\n",
    "def get_bin(val):\n",
    "    ret = int(val.split(\")\")[0])\n",
    "    return ret"
   ]
  },
  {
   "cell_type": "code",
   "execution_count": 164,
   "metadata": {},
   "outputs": [],
   "source": [
    "#apply function get_bin on each binned variable\n",
    "for col in data_NoRegion.columns:\n",
    "    if data_NoRegion[col].dtype == object:\n",
    "        data_NoRegion[col] = data_NoRegion[col].apply(get_bin)"
   ]
  },
  {
   "cell_type": "code",
   "execution_count": 165,
   "metadata": {},
   "outputs": [
    {
     "data": {
      "text/html": [
       "<div>\n",
       "<style scoped>\n",
       "    .dataframe tbody tr th:only-of-type {\n",
       "        vertical-align: middle;\n",
       "    }\n",
       "\n",
       "    .dataframe tbody tr th {\n",
       "        vertical-align: top;\n",
       "    }\n",
       "\n",
       "    .dataframe thead th {\n",
       "        text-align: right;\n",
       "    }\n",
       "</style>\n",
       "<table border=\"1\" class=\"dataframe\">\n",
       "  <thead>\n",
       "    <tr style=\"text-align: right;\">\n",
       "      <th></th>\n",
       "      <th>ID</th>\n",
       "      <th>V_S_CARAGE</th>\n",
       "      <th>PH_S_AGE</th>\n",
       "      <th>V_S_ENGCAPACITY</th>\n",
       "      <th>V_S_ENGPOWER</th>\n",
       "      <th>C_N_AZ_RANK</th>\n",
       "      <th>Q_N_SUCCESS</th>\n",
       "      <th>C_AZ_PREMIUM</th>\n",
       "    </tr>\n",
       "  </thead>\n",
       "  <tbody>\n",
       "    <tr>\n",
       "      <th>0</th>\n",
       "      <td>1</td>\n",
       "      <td>1</td>\n",
       "      <td>43</td>\n",
       "      <td>6</td>\n",
       "      <td>12</td>\n",
       "      <td>11</td>\n",
       "      <td>1</td>\n",
       "      <td>100</td>\n",
       "    </tr>\n",
       "    <tr>\n",
       "      <th>1</th>\n",
       "      <td>2</td>\n",
       "      <td>6</td>\n",
       "      <td>11</td>\n",
       "      <td>12</td>\n",
       "      <td>18</td>\n",
       "      <td>11</td>\n",
       "      <td>1</td>\n",
       "      <td>220</td>\n",
       "    </tr>\n",
       "    <tr>\n",
       "      <th>2</th>\n",
       "      <td>3</td>\n",
       "      <td>6</td>\n",
       "      <td>43</td>\n",
       "      <td>12</td>\n",
       "      <td>14</td>\n",
       "      <td>11</td>\n",
       "      <td>1</td>\n",
       "      <td>140</td>\n",
       "    </tr>\n",
       "    <tr>\n",
       "      <th>3</th>\n",
       "      <td>4</td>\n",
       "      <td>8</td>\n",
       "      <td>51</td>\n",
       "      <td>8</td>\n",
       "      <td>10</td>\n",
       "      <td>11</td>\n",
       "      <td>1</td>\n",
       "      <td>110</td>\n",
       "    </tr>\n",
       "    <tr>\n",
       "      <th>4</th>\n",
       "      <td>5</td>\n",
       "      <td>13</td>\n",
       "      <td>55</td>\n",
       "      <td>8</td>\n",
       "      <td>7</td>\n",
       "      <td>11</td>\n",
       "      <td>1</td>\n",
       "      <td>190</td>\n",
       "    </tr>\n",
       "  </tbody>\n",
       "</table>\n",
       "</div>"
      ],
      "text/plain": [
       "   ID  V_S_CARAGE  PH_S_AGE  V_S_ENGCAPACITY  V_S_ENGPOWER  C_N_AZ_RANK  \\\n",
       "0   1           1        43                6            12           11   \n",
       "1   2           6        11               12            18           11   \n",
       "2   3           6        43               12            14           11   \n",
       "3   4           8        51                8            10           11   \n",
       "4   5          13        55                8             7           11   \n",
       "\n",
       "   Q_N_SUCCESS  C_AZ_PREMIUM  \n",
       "0            1           100  \n",
       "1            1           220  \n",
       "2            1           140  \n",
       "3            1           110  \n",
       "4            1           190  "
      ]
     },
     "execution_count": 165,
     "metadata": {},
     "output_type": "execute_result"
    }
   ],
   "source": [
    "data_NoRegion.head()"
   ]
  },
  {
   "cell_type": "code",
   "execution_count": 166,
   "metadata": {},
   "outputs": [
    {
     "data": {
      "text/plain": [
       "ID                 int64\n",
       "V_S_CARAGE         int64\n",
       "PH_S_AGE           int64\n",
       "V_S_ENGCAPACITY    int64\n",
       "V_S_ENGPOWER       int64\n",
       "C_N_AZ_RANK        int64\n",
       "Q_N_SUCCESS        int64\n",
       "C_AZ_PREMIUM       int64\n",
       "dtype: object"
      ]
     },
     "execution_count": 166,
     "metadata": {},
     "output_type": "execute_result"
    }
   ],
   "source": [
    "data_NoRegion.dtypes"
   ]
  },
  {
   "cell_type": "code",
   "execution_count": 168,
   "metadata": {},
   "outputs": [],
   "source": [
    "#join data with dummy variables\n",
    "data_AllTogether = pd.concat([data_NoRegion,region_dummy],axis=1)"
   ]
  },
  {
   "cell_type": "code",
   "execution_count": 169,
   "metadata": {},
   "outputs": [
    {
     "data": {
      "text/html": [
       "<div>\n",
       "<style scoped>\n",
       "    .dataframe tbody tr th:only-of-type {\n",
       "        vertical-align: middle;\n",
       "    }\n",
       "\n",
       "    .dataframe tbody tr th {\n",
       "        vertical-align: top;\n",
       "    }\n",
       "\n",
       "    .dataframe thead th {\n",
       "        text-align: right;\n",
       "    }\n",
       "</style>\n",
       "<table border=\"1\" class=\"dataframe\">\n",
       "  <thead>\n",
       "    <tr style=\"text-align: right;\">\n",
       "      <th></th>\n",
       "      <th>ID</th>\n",
       "      <th>V_S_CARAGE</th>\n",
       "      <th>PH_S_AGE</th>\n",
       "      <th>V_S_ENGCAPACITY</th>\n",
       "      <th>V_S_ENGPOWER</th>\n",
       "      <th>C_N_AZ_RANK</th>\n",
       "      <th>Q_N_SUCCESS</th>\n",
       "      <th>C_AZ_PREMIUM</th>\n",
       "      <th>1 - Bratislavsky</th>\n",
       "      <th>2 - Trnavsky</th>\n",
       "      <th>3 - Trenciansky</th>\n",
       "      <th>4 - Nitriansky</th>\n",
       "      <th>5 - Zilinsky</th>\n",
       "      <th>6 - Banskobystricky</th>\n",
       "      <th>7 - Presovsky</th>\n",
       "    </tr>\n",
       "  </thead>\n",
       "  <tbody>\n",
       "    <tr>\n",
       "      <th>0</th>\n",
       "      <td>1</td>\n",
       "      <td>1</td>\n",
       "      <td>43</td>\n",
       "      <td>6</td>\n",
       "      <td>12</td>\n",
       "      <td>11</td>\n",
       "      <td>1</td>\n",
       "      <td>100</td>\n",
       "      <td>0</td>\n",
       "      <td>0</td>\n",
       "      <td>0</td>\n",
       "      <td>0</td>\n",
       "      <td>1</td>\n",
       "      <td>0</td>\n",
       "      <td>0</td>\n",
       "    </tr>\n",
       "    <tr>\n",
       "      <th>1</th>\n",
       "      <td>2</td>\n",
       "      <td>6</td>\n",
       "      <td>11</td>\n",
       "      <td>12</td>\n",
       "      <td>18</td>\n",
       "      <td>11</td>\n",
       "      <td>1</td>\n",
       "      <td>220</td>\n",
       "      <td>0</td>\n",
       "      <td>0</td>\n",
       "      <td>1</td>\n",
       "      <td>0</td>\n",
       "      <td>0</td>\n",
       "      <td>0</td>\n",
       "      <td>0</td>\n",
       "    </tr>\n",
       "    <tr>\n",
       "      <th>2</th>\n",
       "      <td>3</td>\n",
       "      <td>6</td>\n",
       "      <td>43</td>\n",
       "      <td>12</td>\n",
       "      <td>14</td>\n",
       "      <td>11</td>\n",
       "      <td>1</td>\n",
       "      <td>140</td>\n",
       "      <td>0</td>\n",
       "      <td>0</td>\n",
       "      <td>0</td>\n",
       "      <td>0</td>\n",
       "      <td>0</td>\n",
       "      <td>0</td>\n",
       "      <td>1</td>\n",
       "    </tr>\n",
       "    <tr>\n",
       "      <th>3</th>\n",
       "      <td>4</td>\n",
       "      <td>8</td>\n",
       "      <td>51</td>\n",
       "      <td>8</td>\n",
       "      <td>10</td>\n",
       "      <td>11</td>\n",
       "      <td>1</td>\n",
       "      <td>110</td>\n",
       "      <td>0</td>\n",
       "      <td>0</td>\n",
       "      <td>0</td>\n",
       "      <td>0</td>\n",
       "      <td>0</td>\n",
       "      <td>0</td>\n",
       "      <td>1</td>\n",
       "    </tr>\n",
       "    <tr>\n",
       "      <th>4</th>\n",
       "      <td>5</td>\n",
       "      <td>13</td>\n",
       "      <td>55</td>\n",
       "      <td>8</td>\n",
       "      <td>7</td>\n",
       "      <td>11</td>\n",
       "      <td>1</td>\n",
       "      <td>190</td>\n",
       "      <td>0</td>\n",
       "      <td>0</td>\n",
       "      <td>0</td>\n",
       "      <td>0</td>\n",
       "      <td>1</td>\n",
       "      <td>0</td>\n",
       "      <td>0</td>\n",
       "    </tr>\n",
       "  </tbody>\n",
       "</table>\n",
       "</div>"
      ],
      "text/plain": [
       "   ID  V_S_CARAGE  PH_S_AGE  V_S_ENGCAPACITY  V_S_ENGPOWER  C_N_AZ_RANK  \\\n",
       "0   1           1        43                6            12           11   \n",
       "1   2           6        11               12            18           11   \n",
       "2   3           6        43               12            14           11   \n",
       "3   4           8        51                8            10           11   \n",
       "4   5          13        55                8             7           11   \n",
       "\n",
       "   Q_N_SUCCESS  C_AZ_PREMIUM  1 - Bratislavsky  2 - Trnavsky  3 - Trenciansky  \\\n",
       "0            1           100                 0             0                0   \n",
       "1            1           220                 0             0                1   \n",
       "2            1           140                 0             0                0   \n",
       "3            1           110                 0             0                0   \n",
       "4            1           190                 0             0                0   \n",
       "\n",
       "   4 - Nitriansky  5 - Zilinsky  6 - Banskobystricky  7 - Presovsky  \n",
       "0               0             1                    0              0  \n",
       "1               0             0                    0              0  \n",
       "2               0             0                    0              1  \n",
       "3               0             0                    0              1  \n",
       "4               0             1                    0              0  "
      ]
     },
     "execution_count": 169,
     "metadata": {},
     "output_type": "execute_result"
    }
   ],
   "source": [
    "data_AllTogether.head()"
   ]
  },
  {
   "cell_type": "code",
   "execution_count": 176,
   "metadata": {},
   "outputs": [
    {
     "data": {
      "text/plain": [
       "[Text(0, 0.5, '')]"
      ]
     },
     "execution_count": 176,
     "metadata": {},
     "output_type": "execute_result"
    },
    {
     "data": {
      "image/png": "[encoded data removed]",
      "text/plain": [
       "<Figure size 842.4x595.44 with 1 Axes>"
      ]
     },
     "metadata": {},
     "output_type": "display_data"
    }
   ],
   "source": [
    "#check distribution of variable Premium\n",
    "sns.set(style=\"darkgrid\",rc={'figure.figsize':(11.7,8.27)})\n",
    "sns.histplot(data_AllTogether, x=\"C_AZ_PREMIUM\").set(ylabel = None)"
   ]
  },
  {
   "cell_type": "code",
   "execution_count": 177,
   "metadata": {},
   "outputs": [
    {
     "data": {
      "text/plain": [
       "count    1000.000000\n",
       "mean      272.190000\n",
       "std       323.209171\n",
       "min        80.000000\n",
       "25%       130.000000\n",
       "50%       160.000000\n",
       "75%       290.000000\n",
       "max      4600.000000\n",
       "Name: C_AZ_PREMIUM, dtype: float64"
      ]
     },
     "execution_count": 177,
     "metadata": {},
     "output_type": "execute_result"
    }
   ],
   "source": [
    "data_AllTogether[\"C_AZ_PREMIUM\"].describe()"
   ]
  },
  {
   "cell_type": "code",
   "execution_count": 186,
   "metadata": {},
   "outputs": [],
   "source": [
    "#define function for outlier detection\n",
    "def outlier_detection(col,multiplier=1.5):\n",
    "    q_low = col.quantile(0.1)\n",
    "    q_hi  = col.quantile(0.9)\n",
    "    diff = q_hi - q_low\n",
    "    lower = q_low - multiplier*diff\n",
    "    upper = q_hi + multiplier*diff\n",
    "    ret = col[(col > upper) | (col < lower)]\n",
    "    return ret"
   ]
  },
  {
   "cell_type": "code",
   "execution_count": 187,
   "metadata": {},
   "outputs": [
    {
     "data": {
      "text/plain": [
       "32     1620\n",
       "61     1380\n",
       "63     2090\n",
       "73     2170\n",
       "81     1340\n",
       "88     1560\n",
       "97     2390\n",
       "130    2360\n",
       "237    1310\n",
       "394    1350\n",
       "396    1810\n",
       "588    1290\n",
       "693    1350\n",
       "733    1260\n",
       "784    1570\n",
       "817    4600\n",
       "821    3680\n",
       "832    1510\n",
       "833    1240\n",
       "845    1890\n",
       "859    1260\n",
       "Name: C_AZ_PREMIUM, dtype: int64"
      ]
     },
     "execution_count": 187,
     "metadata": {},
     "output_type": "execute_result"
    }
   ],
   "source": [
    "#print out potential outliers - in this case, we do not provide any specific modifications to them\n",
    "outlier_detection(data_AllTogether[\"C_AZ_PREMIUM\"])"
   ]
  },
  {
   "cell_type": "code",
   "execution_count": 189,
   "metadata": {},
   "outputs": [
    {
     "data": {
      "text/plain": [
       "<seaborn.axisgrid.FacetGrid at 0x1c94bbac160>"
      ]
     },
     "execution_count": 189,
     "metadata": {},
     "output_type": "execute_result"
    },
    {
     "data": {
      "image/png": "[encoded data removed]",
      "text/plain": [
       "<Figure size 360x360 with 1 Axes>"
      ]
     },
     "metadata": {},
     "output_type": "display_data"
    }
   ],
   "source": [
    "#check distribution of dependent variable - we can see an imbalance\n",
    "sns.catplot(data=data_AllTogether, x=\"Q_N_SUCCESS\",kind=\"count\").set(ylabel = None)"
   ]
  },
  {
   "cell_type": "code",
   "execution_count": 191,
   "metadata": {},
   "outputs": [
    {
     "data": {
      "text/html": [
       "<div>\n",
       "<style scoped>\n",
       "    .dataframe tbody tr th:only-of-type {\n",
       "        vertical-align: middle;\n",
       "    }\n",
       "\n",
       "    .dataframe tbody tr th {\n",
       "        vertical-align: top;\n",
       "    }\n",
       "\n",
       "    .dataframe thead th {\n",
       "        text-align: right;\n",
       "    }\n",
       "</style>\n",
       "<table border=\"1\" class=\"dataframe\">\n",
       "  <thead>\n",
       "    <tr style=\"text-align: right;\">\n",
       "      <th></th>\n",
       "      <th>V_S_CARAGE</th>\n",
       "      <th>PH_S_AGE</th>\n",
       "      <th>V_S_ENGCAPACITY</th>\n",
       "      <th>V_S_ENGPOWER</th>\n",
       "      <th>C_N_AZ_RANK</th>\n",
       "      <th>Q_N_SUCCESS</th>\n",
       "      <th>C_AZ_PREMIUM</th>\n",
       "      <th>1 - Bratislavsky</th>\n",
       "      <th>2 - Trnavsky</th>\n",
       "      <th>3 - Trenciansky</th>\n",
       "      <th>4 - Nitriansky</th>\n",
       "      <th>5 - Zilinsky</th>\n",
       "      <th>6 - Banskobystricky</th>\n",
       "      <th>7 - Presovsky</th>\n",
       "    </tr>\n",
       "  </thead>\n",
       "  <tbody>\n",
       "    <tr>\n",
       "      <th>V_S_CARAGE</th>\n",
       "      <td>1.000000</td>\n",
       "      <td>-0.041168</td>\n",
       "      <td>0.191534</td>\n",
       "      <td>-0.366000</td>\n",
       "      <td>-0.105496</td>\n",
       "      <td>0.378012</td>\n",
       "      <td>-0.171835</td>\n",
       "      <td>-0.093524</td>\n",
       "      <td>0.025521</td>\n",
       "      <td>0.042000</td>\n",
       "      <td>0.030258</td>\n",
       "      <td>-0.031399</td>\n",
       "      <td>0.080413</td>\n",
       "      <td>-0.035485</td>\n",
       "    </tr>\n",
       "    <tr>\n",
       "      <th>PH_S_AGE</th>\n",
       "      <td>-0.041168</td>\n",
       "      <td>1.000000</td>\n",
       "      <td>-0.164073</td>\n",
       "      <td>-0.135760</td>\n",
       "      <td>0.207001</td>\n",
       "      <td>-0.061661</td>\n",
       "      <td>-0.076081</td>\n",
       "      <td>0.074494</td>\n",
       "      <td>0.013203</td>\n",
       "      <td>0.019889</td>\n",
       "      <td>0.023136</td>\n",
       "      <td>-0.096530</td>\n",
       "      <td>-0.023848</td>\n",
       "      <td>-0.033315</td>\n",
       "    </tr>\n",
       "    <tr>\n",
       "      <th>V_S_ENGCAPACITY</th>\n",
       "      <td>0.191534</td>\n",
       "      <td>-0.164073</td>\n",
       "      <td>1.000000</td>\n",
       "      <td>0.628592</td>\n",
       "      <td>0.267232</td>\n",
       "      <td>0.032602</td>\n",
       "      <td>0.069312</td>\n",
       "      <td>-0.034802</td>\n",
       "      <td>-0.032943</td>\n",
       "      <td>-0.040639</td>\n",
       "      <td>-0.006292</td>\n",
       "      <td>0.017290</td>\n",
       "      <td>-0.012217</td>\n",
       "      <td>0.060410</td>\n",
       "    </tr>\n",
       "    <tr>\n",
       "      <th>V_S_ENGPOWER</th>\n",
       "      <td>-0.366000</td>\n",
       "      <td>-0.135760</td>\n",
       "      <td>0.628592</td>\n",
       "      <td>1.000000</td>\n",
       "      <td>0.218220</td>\n",
       "      <td>-0.156019</td>\n",
       "      <td>0.186089</td>\n",
       "      <td>0.042234</td>\n",
       "      <td>-0.036167</td>\n",
       "      <td>-0.001327</td>\n",
       "      <td>-0.046166</td>\n",
       "      <td>0.018095</td>\n",
       "      <td>-0.068951</td>\n",
       "      <td>0.040549</td>\n",
       "    </tr>\n",
       "    <tr>\n",
       "      <th>C_N_AZ_RANK</th>\n",
       "      <td>-0.105496</td>\n",
       "      <td>0.207001</td>\n",
       "      <td>0.267232</td>\n",
       "      <td>0.218220</td>\n",
       "      <td>1.000000</td>\n",
       "      <td>-0.029481</td>\n",
       "      <td>0.009982</td>\n",
       "      <td>-0.159765</td>\n",
       "      <td>0.097825</td>\n",
       "      <td>0.032637</td>\n",
       "      <td>0.126518</td>\n",
       "      <td>0.017081</td>\n",
       "      <td>0.057123</td>\n",
       "      <td>-0.043579</td>\n",
       "    </tr>\n",
       "    <tr>\n",
       "      <th>Q_N_SUCCESS</th>\n",
       "      <td>0.378012</td>\n",
       "      <td>-0.061661</td>\n",
       "      <td>0.032602</td>\n",
       "      <td>-0.156019</td>\n",
       "      <td>-0.029481</td>\n",
       "      <td>1.000000</td>\n",
       "      <td>-0.250973</td>\n",
       "      <td>-0.416942</td>\n",
       "      <td>0.067049</td>\n",
       "      <td>0.102214</td>\n",
       "      <td>0.080103</td>\n",
       "      <td>0.116058</td>\n",
       "      <td>0.164623</td>\n",
       "      <td>0.095808</td>\n",
       "    </tr>\n",
       "    <tr>\n",
       "      <th>C_AZ_PREMIUM</th>\n",
       "      <td>-0.171835</td>\n",
       "      <td>-0.076081</td>\n",
       "      <td>0.069312</td>\n",
       "      <td>0.186089</td>\n",
       "      <td>0.009982</td>\n",
       "      <td>-0.250973</td>\n",
       "      <td>1.000000</td>\n",
       "      <td>0.223068</td>\n",
       "      <td>-0.025167</td>\n",
       "      <td>-0.062314</td>\n",
       "      <td>-0.074796</td>\n",
       "      <td>-0.053249</td>\n",
       "      <td>-0.053216</td>\n",
       "      <td>-0.099857</td>\n",
       "    </tr>\n",
       "    <tr>\n",
       "      <th>1 - Bratislavsky</th>\n",
       "      <td>-0.093524</td>\n",
       "      <td>0.074494</td>\n",
       "      <td>-0.034802</td>\n",
       "      <td>0.042234</td>\n",
       "      <td>-0.159765</td>\n",
       "      <td>-0.416942</td>\n",
       "      <td>0.223068</td>\n",
       "      <td>1.000000</td>\n",
       "      <td>-0.290109</td>\n",
       "      <td>-0.263557</td>\n",
       "      <td>-0.247823</td>\n",
       "      <td>-0.260117</td>\n",
       "      <td>-0.211978</td>\n",
       "      <td>-0.321390</td>\n",
       "    </tr>\n",
       "    <tr>\n",
       "      <th>2 - Trnavsky</th>\n",
       "      <td>0.025521</td>\n",
       "      <td>0.013203</td>\n",
       "      <td>-0.032943</td>\n",
       "      <td>-0.036167</td>\n",
       "      <td>0.097825</td>\n",
       "      <td>0.067049</td>\n",
       "      <td>-0.025167</td>\n",
       "      <td>-0.290109</td>\n",
       "      <td>1.000000</td>\n",
       "      <td>-0.100942</td>\n",
       "      <td>-0.094916</td>\n",
       "      <td>-0.099624</td>\n",
       "      <td>-0.081187</td>\n",
       "      <td>-0.123091</td>\n",
       "    </tr>\n",
       "    <tr>\n",
       "      <th>3 - Trenciansky</th>\n",
       "      <td>0.042000</td>\n",
       "      <td>0.019889</td>\n",
       "      <td>-0.040639</td>\n",
       "      <td>-0.001327</td>\n",
       "      <td>0.032637</td>\n",
       "      <td>0.102214</td>\n",
       "      <td>-0.062314</td>\n",
       "      <td>-0.263557</td>\n",
       "      <td>-0.100942</td>\n",
       "      <td>1.000000</td>\n",
       "      <td>-0.086229</td>\n",
       "      <td>-0.090506</td>\n",
       "      <td>-0.073756</td>\n",
       "      <td>-0.111826</td>\n",
       "    </tr>\n",
       "    <tr>\n",
       "      <th>4 - Nitriansky</th>\n",
       "      <td>0.030258</td>\n",
       "      <td>0.023136</td>\n",
       "      <td>-0.006292</td>\n",
       "      <td>-0.046166</td>\n",
       "      <td>0.126518</td>\n",
       "      <td>0.080103</td>\n",
       "      <td>-0.074796</td>\n",
       "      <td>-0.247823</td>\n",
       "      <td>-0.094916</td>\n",
       "      <td>-0.086229</td>\n",
       "      <td>1.000000</td>\n",
       "      <td>-0.085103</td>\n",
       "      <td>-0.069353</td>\n",
       "      <td>-0.105150</td>\n",
       "    </tr>\n",
       "    <tr>\n",
       "      <th>5 - Zilinsky</th>\n",
       "      <td>-0.031399</td>\n",
       "      <td>-0.096530</td>\n",
       "      <td>0.017290</td>\n",
       "      <td>0.018095</td>\n",
       "      <td>0.017081</td>\n",
       "      <td>0.116058</td>\n",
       "      <td>-0.053249</td>\n",
       "      <td>-0.260117</td>\n",
       "      <td>-0.099624</td>\n",
       "      <td>-0.090506</td>\n",
       "      <td>-0.085103</td>\n",
       "      <td>1.000000</td>\n",
       "      <td>-0.072794</td>\n",
       "      <td>-0.110366</td>\n",
       "    </tr>\n",
       "    <tr>\n",
       "      <th>6 - Banskobystricky</th>\n",
       "      <td>0.080413</td>\n",
       "      <td>-0.023848</td>\n",
       "      <td>-0.012217</td>\n",
       "      <td>-0.068951</td>\n",
       "      <td>0.057123</td>\n",
       "      <td>0.164623</td>\n",
       "      <td>-0.053216</td>\n",
       "      <td>-0.211978</td>\n",
       "      <td>-0.081187</td>\n",
       "      <td>-0.073756</td>\n",
       "      <td>-0.069353</td>\n",
       "      <td>-0.072794</td>\n",
       "      <td>1.000000</td>\n",
       "      <td>-0.089941</td>\n",
       "    </tr>\n",
       "    <tr>\n",
       "      <th>7 - Presovsky</th>\n",
       "      <td>-0.035485</td>\n",
       "      <td>-0.033315</td>\n",
       "      <td>0.060410</td>\n",
       "      <td>0.040549</td>\n",
       "      <td>-0.043579</td>\n",
       "      <td>0.095808</td>\n",
       "      <td>-0.099857</td>\n",
       "      <td>-0.321390</td>\n",
       "      <td>-0.123091</td>\n",
       "      <td>-0.111826</td>\n",
       "      <td>-0.105150</td>\n",
       "      <td>-0.110366</td>\n",
       "      <td>-0.089941</td>\n",
       "      <td>1.000000</td>\n",
       "    </tr>\n",
       "  </tbody>\n",
       "</table>\n",
       "</div>"
      ],
      "text/plain": [
       "                     V_S_CARAGE  PH_S_AGE  V_S_ENGCAPACITY  V_S_ENGPOWER  \\\n",
       "V_S_CARAGE             1.000000 -0.041168         0.191534     -0.366000   \n",
       "PH_S_AGE              -0.041168  1.000000        -0.164073     -0.135760   \n",
       "V_S_ENGCAPACITY        0.191534 -0.164073         1.000000      0.628592   \n",
       "V_S_ENGPOWER          -0.366000 -0.135760         0.628592      1.000000   \n",
       "C_N_AZ_RANK           -0.105496  0.207001         0.267232      0.218220   \n",
       "Q_N_SUCCESS            0.378012 -0.061661         0.032602     -0.156019   \n",
       "C_AZ_PREMIUM          -0.171835 -0.076081         0.069312      0.186089   \n",
       "1 - Bratislavsky      -0.093524  0.074494        -0.034802      0.042234   \n",
       "2 - Trnavsky           0.025521  0.013203        -0.032943     -0.036167   \n",
       "3 - Trenciansky        0.042000  0.019889        -0.040639     -0.001327   \n",
       "4 - Nitriansky         0.030258  0.023136        -0.006292     -0.046166   \n",
       "5 - Zilinsky          -0.031399 -0.096530         0.017290      0.018095   \n",
       "6 - Banskobystricky    0.080413 -0.023848        -0.012217     -0.068951   \n",
       "7 - Presovsky         -0.035485 -0.033315         0.060410      0.040549   \n",
       "\n",
       "                     C_N_AZ_RANK  Q_N_SUCCESS  C_AZ_PREMIUM  1 - Bratislavsky  \\\n",
       "V_S_CARAGE             -0.105496     0.378012     -0.171835         -0.093524   \n",
       "PH_S_AGE                0.207001    -0.061661     -0.076081          0.074494   \n",
       "V_S_ENGCAPACITY         0.267232     0.032602      0.069312         -0.034802   \n",
       "V_S_ENGPOWER            0.218220    -0.156019      0.186089          0.042234   \n",
       "C_N_AZ_RANK             1.000000    -0.029481      0.009982         -0.159765   \n",
       "Q_N_SUCCESS            -0.029481     1.000000     -0.250973         -0.416942   \n",
       "C_AZ_PREMIUM            0.009982    -0.250973      1.000000          0.223068   \n",
       "1 - Bratislavsky       -0.159765    -0.416942      0.223068          1.000000   \n",
       "2 - Trnavsky            0.097825     0.067049     -0.025167         -0.290109   \n",
       "3 - Trenciansky         0.032637     0.102214     -0.062314         -0.263557   \n",
       "4 - Nitriansky          0.126518     0.080103     -0.074796         -0.247823   \n",
       "5 - Zilinsky            0.017081     0.116058     -0.053249         -0.260117   \n",
       "6 - Banskobystricky     0.057123     0.164623     -0.053216         -0.211978   \n",
       "7 - Presovsky          -0.043579     0.095808     -0.099857         -0.321390   \n",
       "\n",
       "                     2 - Trnavsky  3 - Trenciansky  4 - Nitriansky  \\\n",
       "V_S_CARAGE               0.025521         0.042000        0.030258   \n",
       "PH_S_AGE                 0.013203         0.019889        0.023136   \n",
       "V_S_ENGCAPACITY         -0.032943        -0.040639       -0.006292   \n",
       "V_S_ENGPOWER            -0.036167        -0.001327       -0.046166   \n",
       "C_N_AZ_RANK              0.097825         0.032637        0.126518   \n",
       "Q_N_SUCCESS              0.067049         0.102214        0.080103   \n",
       "C_AZ_PREMIUM            -0.025167        -0.062314       -0.074796   \n",
       "1 - Bratislavsky        -0.290109        -0.263557       -0.247823   \n",
       "2 - Trnavsky             1.000000        -0.100942       -0.094916   \n",
       "3 - Trenciansky         -0.100942         1.000000       -0.086229   \n",
       "4 - Nitriansky          -0.094916        -0.086229        1.000000   \n",
       "5 - Zilinsky            -0.099624        -0.090506       -0.085103   \n",
       "6 - Banskobystricky     -0.081187        -0.073756       -0.069353   \n",
       "7 - Presovsky           -0.123091        -0.111826       -0.105150   \n",
       "\n",
       "                     5 - Zilinsky  6 - Banskobystricky  7 - Presovsky  \n",
       "V_S_CARAGE              -0.031399             0.080413      -0.035485  \n",
       "PH_S_AGE                -0.096530            -0.023848      -0.033315  \n",
       "V_S_ENGCAPACITY          0.017290            -0.012217       0.060410  \n",
       "V_S_ENGPOWER             0.018095            -0.068951       0.040549  \n",
       "C_N_AZ_RANK              0.017081             0.057123      -0.043579  \n",
       "Q_N_SUCCESS              0.116058             0.164623       0.095808  \n",
       "C_AZ_PREMIUM            -0.053249            -0.053216      -0.099857  \n",
       "1 - Bratislavsky        -0.260117            -0.211978      -0.321390  \n",
       "2 - Trnavsky            -0.099624            -0.081187      -0.123091  \n",
       "3 - Trenciansky         -0.090506            -0.073756      -0.111826  \n",
       "4 - Nitriansky          -0.085103            -0.069353      -0.105150  \n",
       "5 - Zilinsky             1.000000            -0.072794      -0.110366  \n",
       "6 - Banskobystricky     -0.072794             1.000000      -0.089941  \n",
       "7 - Presovsky           -0.110366            -0.089941       1.000000  "
      ]
     },
     "execution_count": 191,
     "metadata": {},
     "output_type": "execute_result"
    }
   ],
   "source": [
    "#get correlation matrix \n",
    "data_AllTogether.drop(\"ID\",axis=1).corr()"
   ]
  },
  {
   "cell_type": "code",
   "execution_count": 192,
   "metadata": {},
   "outputs": [],
   "source": [
    "x = data_AllTogether.drop([\"ID\",\"Q_N_SUCCESS\"],axis=1)\n",
    "y = data_AllTogether[\"Q_N_SUCCESS\"]"
   ]
  },
  {
   "cell_type": "code",
   "execution_count": 194,
   "metadata": {},
   "outputs": [],
   "source": [
    "#split data between training and validation sets\n",
    "x_train, x_test, y_train, y_test = train_test_split(x, y, test_size=0.3, random_state=42)"
   ]
  },
  {
   "cell_type": "code",
   "execution_count": 195,
   "metadata": {},
   "outputs": [],
   "source": [
    "#cross validate the hyperparameters on random forest model\n",
    "par_rfr = {\"max_depth\":[5,6,7],\"max_features\":[11,12,13],\"min_samples_leaf\":[2,3,4]}\n",
    "rfr = RandomForestClassifier()\n",
    "gscv = GridSearchCV(rfr,par_rfr)\n",
    "gscv.fit(x_train,y_train)\n",
    "#select best HPs\n",
    "p_1_rfr = gscv.best_params_[\"max_depth\"]\n",
    "p_2_rfr = gscv.best_params_[\"max_features\"]\n",
    "p_3_rfr = gscv.best_params_[\"min_samples_leaf\"]\n",
    "#fit random forest with best HPs\n",
    "rfr = RandomForestClassifier(max_depth= p_1_rfr,max_features=p_2_rfr,min_samples_leaf=p_3_rfr)\n",
    "rfr.fit(x_train,y_train)\n",
    "#predict classes and probabilities\n",
    "y_p_rfr = rfr.predict(x_test)\n",
    "y_prob_rfr = rfr.predict_proba(x_test)"
   ]
  },
  {
   "cell_type": "code",
   "execution_count": 196,
   "metadata": {},
   "outputs": [
    {
     "name": "stdout",
     "output_type": "stream",
     "text": [
      "test accuracy: 0.8266666666666667, ROC AUC: 0.8880684026428294, max depth: 7, max features: 11, min sample leaf: 2\n"
     ]
    }
   ],
   "source": [
    "print(f\"test accuracy: {accuracy_score(y_p_rfr,y_test)}, ROC AUC: {roc_auc_score(y_test,y_prob_rfr[:, 1])}, max depth: {p_1_rfr}, max features: {p_2_rfr}, min sample leaf: {p_3_rfr}\")"
   ]
  },
  {
   "cell_type": "code",
   "execution_count": 201,
   "metadata": {},
   "outputs": [
    {
     "data": {
      "text/plain": [
       "Text(0.5, 1.0, 'Feature importances')"
      ]
     },
     "execution_count": 201,
     "metadata": {},
     "output_type": "execute_result"
    },
    {
     "data": {
      "image/png": "[encoded data removed]",
      "text/plain": [
       "<Figure size 504x576 with 1 Axes>"
      ]
     },
     "metadata": {},
     "output_type": "display_data"
    }
   ],
   "source": [
    "#plot feature importances - we see that we can discriminate only whether or not client is from Bratislavsky kraj\n",
    "plt.figure(figsize=(7,8))\n",
    "plt.barh(x.columns, rfr.feature_importances_)\n",
    "plt.title(\"Feature importances\")"
   ]
  },
  {
   "cell_type": "code",
   "execution_count": 202,
   "metadata": {},
   "outputs": [],
   "source": [
    "par_gbm = {\"learning_rate\":[0.01,0.1,0.3,0.5],\"min_samples_leaf\":[2,3,4]}\n",
    "gbm = GradientBoostingClassifier()\n",
    "gscv = GridSearchCV(gbm,par_gbm)\n",
    "gscv.fit(x_train,y_train)\n",
    "p_1_gbm = gscv.best_params_[\"learning_rate\"]\n",
    "p_2_gbm = gscv.best_params_[\"min_samples_leaf\"]\n",
    "gbm = GradientBoostingClassifier(learning_rate= p_1_gbm,min_samples_leaf=p_2_gbm)\n",
    "gbm.fit(x_train,y_train)\n",
    "y_p_gbm = gbm.predict(x_test)\n",
    "y_prob_gbm = gbm.predict_proba(x_test)"
   ]
  },
  {
   "cell_type": "code",
   "execution_count": 203,
   "metadata": {},
   "outputs": [
    {
     "name": "stdout",
     "output_type": "stream",
     "text": [
      "test accuracy: 0.8333333333333334, ROC AUC: 0.9024485036921881, learning_rate: 0.1, min sample leaf: 2\n"
     ]
    }
   ],
   "source": [
    "print(f\"test accuracy: {accuracy_score(y_p_gbm,y_test)}, ROC AUC: {roc_auc_score(y_test,y_prob_gbm[:, 1])}, learning_rate: {p_1_gbm}, min sample leaf: {p_2_gbm}\")"
   ]
  },
  {
   "cell_type": "code",
   "execution_count": 206,
   "metadata": {},
   "outputs": [
    {
     "data": {
      "text/plain": [
       "Text(0.5, 1.0, 'Feature importances')"
      ]
     },
     "execution_count": 206,
     "metadata": {},
     "output_type": "execute_result"
    },
    {
     "data": {
      "image/png": "[encoded data removed]",
      "text/plain": [
       "<Figure size 504x576 with 1 Axes>"
      ]
     },
     "metadata": {},
     "output_type": "display_data"
    }
   ],
   "source": [
    "plt.figure(figsize=(7,8))\n",
    "plt.barh(x.columns, gbm.feature_importances_)\n",
    "plt.title(\"Feature importances\")"
   ]
  },
  {
   "cell_type": "code",
   "execution_count": 271,
   "metadata": {},
   "outputs": [],
   "source": [
    "#create callback which will stop training process of neural net,when it reaches desired level of accuracy\n",
    "class StopOnPoint(tf.keras.callbacks.Callback):\n",
    "    def _init_(self):\n",
    "        super(StopOnPoint,self)._init_()\n",
    "        #self.point = point\n",
    "        \n",
    "    def on_epoch_end(self, epoch, logs =None):\n",
    "        accuracy = logs[\"accuracy\"]\n",
    "        val_accuracy = logs[\"val_accuracy\"]\n",
    "        if accuracy >= 0.86 and val_accuracy >= 0.87:\n",
    "            self.model.stop_training = True"
   ]
  },
  {
   "cell_type": "code",
   "execution_count": 274,
   "metadata": {},
   "outputs": [
    {
     "name": "stdout",
     "output_type": "stream",
     "text": [
      "Epoch 1/100\n",
      "18/18 [==============================] - 2s 20ms/step - loss: 0.7131 - accuracy: 0.6732 - val_loss: 0.5997 - val_accuracy: 0.6857\n",
      "Epoch 2/100\n",
      "18/18 [==============================] - 0s 5ms/step - loss: 0.5546 - accuracy: 0.7446 - val_loss: 0.4885 - val_accuracy: 0.7214\n",
      "Epoch 3/100\n",
      "18/18 [==============================] - 0s 5ms/step - loss: 0.4611 - accuracy: 0.7750 - val_loss: 0.5247 - val_accuracy: 0.7429\n",
      "Epoch 4/100\n",
      "18/18 [==============================] - 0s 5ms/step - loss: 0.4914 - accuracy: 0.7554 - val_loss: 0.6274 - val_accuracy: 0.7429\n",
      "Epoch 5/100\n",
      "18/18 [==============================] - 0s 5ms/step - loss: 0.4602 - accuracy: 0.7625 - val_loss: 0.4210 - val_accuracy: 0.8214\n",
      "Epoch 6/100\n",
      "18/18 [==============================] - 0s 5ms/step - loss: 0.4506 - accuracy: 0.7714 - val_loss: 0.4137 - val_accuracy: 0.8000\n",
      "Epoch 7/100\n",
      "18/18 [==============================] - 0s 4ms/step - loss: 0.5343 - accuracy: 0.7679 - val_loss: 0.5252 - val_accuracy: 0.7714\n",
      "Epoch 8/100\n",
      "18/18 [==============================] - 0s 6ms/step - loss: 0.4769 - accuracy: 0.7679 - val_loss: 0.4527 - val_accuracy: 0.7214\n",
      "Epoch 9/100\n",
      "18/18 [==============================] - 0s 5ms/step - loss: 0.4523 - accuracy: 0.7875 - val_loss: 0.4677 - val_accuracy: 0.7571\n",
      "Epoch 10/100\n",
      "18/18 [==============================] - 0s 7ms/step - loss: 0.5020 - accuracy: 0.7536 - val_loss: 0.6182 - val_accuracy: 0.7571\n",
      "Epoch 11/100\n",
      "18/18 [==============================] - 0s 4ms/step - loss: 0.4536 - accuracy: 0.7679 - val_loss: 0.3927 - val_accuracy: 0.8357\n",
      "Epoch 12/100\n",
      "18/18 [==============================] - 0s 5ms/step - loss: 0.4178 - accuracy: 0.8036 - val_loss: 0.4343 - val_accuracy: 0.7357\n",
      "Epoch 13/100\n",
      "18/18 [==============================] - 0s 5ms/step - loss: 0.4093 - accuracy: 0.8161 - val_loss: 0.3905 - val_accuracy: 0.8000\n",
      "Epoch 14/100\n",
      "18/18 [==============================] - 0s 5ms/step - loss: 0.4182 - accuracy: 0.7946 - val_loss: 0.4130 - val_accuracy: 0.7857\n",
      "Epoch 15/100\n",
      "18/18 [==============================] - 0s 6ms/step - loss: 0.4147 - accuracy: 0.8000 - val_loss: 0.4471 - val_accuracy: 0.7857\n",
      "Epoch 16/100\n",
      "18/18 [==============================] - 0s 5ms/step - loss: 0.4044 - accuracy: 0.8125 - val_loss: 0.3899 - val_accuracy: 0.8143\n",
      "Epoch 17/100\n",
      "18/18 [==============================] - 0s 5ms/step - loss: 0.4310 - accuracy: 0.7929 - val_loss: 0.4958 - val_accuracy: 0.7500\n",
      "Epoch 18/100\n",
      "18/18 [==============================] - 0s 5ms/step - loss: 0.4589 - accuracy: 0.7679 - val_loss: 0.4155 - val_accuracy: 0.7929\n",
      "Epoch 19/100\n",
      "18/18 [==============================] - 0s 4ms/step - loss: 0.4962 - accuracy: 0.7429 - val_loss: 0.3923 - val_accuracy: 0.8357\n",
      "Epoch 20/100\n",
      "18/18 [==============================] - 0s 6ms/step - loss: 0.4726 - accuracy: 0.7661 - val_loss: 0.4032 - val_accuracy: 0.7929\n",
      "Epoch 21/100\n",
      "18/18 [==============================] - 0s 8ms/step - loss: 0.4076 - accuracy: 0.8143 - val_loss: 0.4322 - val_accuracy: 0.8286\n",
      "Epoch 22/100\n",
      "18/18 [==============================] - 0s 10ms/step - loss: 0.4276 - accuracy: 0.7911 - val_loss: 0.4423 - val_accuracy: 0.7500\n",
      "Epoch 23/100\n",
      "18/18 [==============================] - 0s 4ms/step - loss: 0.4067 - accuracy: 0.8125 - val_loss: 0.4064 - val_accuracy: 0.8429\n",
      "Epoch 24/100\n",
      "18/18 [==============================] - 0s 6ms/step - loss: 0.4130 - accuracy: 0.8214 - val_loss: 0.4011 - val_accuracy: 0.7857\n",
      "Epoch 25/100\n",
      "18/18 [==============================] - 0s 7ms/step - loss: 0.3969 - accuracy: 0.8143 - val_loss: 0.4650 - val_accuracy: 0.7500\n",
      "Epoch 26/100\n",
      "18/18 [==============================] - 0s 7ms/step - loss: 0.4234 - accuracy: 0.8179 - val_loss: 0.4492 - val_accuracy: 0.7857\n",
      "Epoch 27/100\n",
      "18/18 [==============================] - 0s 6ms/step - loss: 0.4284 - accuracy: 0.8071 - val_loss: 0.4153 - val_accuracy: 0.8286\n",
      "Epoch 28/100\n",
      "18/18 [==============================] - 0s 7ms/step - loss: 0.4395 - accuracy: 0.7982 - val_loss: 0.4237 - val_accuracy: 0.7714\n",
      "Epoch 29/100\n",
      "18/18 [==============================] - 0s 6ms/step - loss: 0.4021 - accuracy: 0.8196 - val_loss: 0.3791 - val_accuracy: 0.8500\n",
      "Epoch 30/100\n",
      "18/18 [==============================] - 0s 14ms/step - loss: 0.4193 - accuracy: 0.8071 - val_loss: 0.4547 - val_accuracy: 0.7357\n",
      "Epoch 31/100\n",
      "18/18 [==============================] - 0s 6ms/step - loss: 0.3834 - accuracy: 0.8304 - val_loss: 0.4259 - val_accuracy: 0.8000\n",
      "Epoch 32/100\n",
      "18/18 [==============================] - 0s 5ms/step - loss: 0.3851 - accuracy: 0.8446 - val_loss: 0.4016 - val_accuracy: 0.8214\n",
      "Epoch 33/100\n",
      "18/18 [==============================] - 0s 5ms/step - loss: 0.3876 - accuracy: 0.8339 - val_loss: 0.3873 - val_accuracy: 0.8429\n",
      "Epoch 34/100\n",
      "18/18 [==============================] - 0s 5ms/step - loss: 0.3868 - accuracy: 0.8268 - val_loss: 0.4169 - val_accuracy: 0.8000\n",
      "Epoch 35/100\n",
      "18/18 [==============================] - 0s 5ms/step - loss: 0.4118 - accuracy: 0.7982 - val_loss: 0.3840 - val_accuracy: 0.8357\n",
      "Epoch 36/100\n",
      "18/18 [==============================] - 0s 6ms/step - loss: 0.3783 - accuracy: 0.8411 - val_loss: 0.3968 - val_accuracy: 0.7929\n",
      "Epoch 37/100\n",
      "18/18 [==============================] - 0s 6ms/step - loss: 0.3996 - accuracy: 0.8214 - val_loss: 0.3762 - val_accuracy: 0.8286\n",
      "Epoch 38/100\n",
      "18/18 [==============================] - 0s 4ms/step - loss: 0.3859 - accuracy: 0.8268 - val_loss: 0.3775 - val_accuracy: 0.8500\n",
      "Epoch 39/100\n",
      "18/18 [==============================] - 0s 5ms/step - loss: 0.3812 - accuracy: 0.8286 - val_loss: 0.3869 - val_accuracy: 0.8357\n",
      "Epoch 40/100\n",
      "18/18 [==============================] - 0s 9ms/step - loss: 0.4014 - accuracy: 0.8321 - val_loss: 0.4626 - val_accuracy: 0.7571\n",
      "Epoch 41/100\n",
      "18/18 [==============================] - 0s 7ms/step - loss: 0.4462 - accuracy: 0.7946 - val_loss: 0.4298 - val_accuracy: 0.8214\n",
      "Epoch 42/100\n",
      "18/18 [==============================] - 0s 6ms/step - loss: 0.3971 - accuracy: 0.8196 - val_loss: 0.4424 - val_accuracy: 0.8000\n",
      "Epoch 43/100\n",
      "18/18 [==============================] - 0s 6ms/step - loss: 0.4126 - accuracy: 0.7982 - val_loss: 0.3809 - val_accuracy: 0.8429\n",
      "Epoch 44/100\n",
      "18/18 [==============================] - 0s 6ms/step - loss: 0.4454 - accuracy: 0.7857 - val_loss: 0.6014 - val_accuracy: 0.7500\n",
      "Epoch 45/100\n",
      "18/18 [==============================] - 0s 5ms/step - loss: 0.4690 - accuracy: 0.7732 - val_loss: 0.4073 - val_accuracy: 0.8000\n",
      "Epoch 46/100\n",
      "18/18 [==============================] - 0s 6ms/step - loss: 0.3912 - accuracy: 0.8375 - val_loss: 0.3749 - val_accuracy: 0.8571\n",
      "Epoch 47/100\n",
      "18/18 [==============================] - 0s 5ms/step - loss: 0.3888 - accuracy: 0.8214 - val_loss: 0.4078 - val_accuracy: 0.7929\n",
      "Epoch 48/100\n",
      "18/18 [==============================] - 0s 8ms/step - loss: 0.3765 - accuracy: 0.8286 - val_loss: 0.3723 - val_accuracy: 0.8286\n",
      "Epoch 49/100\n",
      "18/18 [==============================] - 0s 7ms/step - loss: 0.3892 - accuracy: 0.8161 - val_loss: 0.4396 - val_accuracy: 0.7857\n",
      "Epoch 50/100\n",
      "18/18 [==============================] - 0s 12ms/step - loss: 0.3754 - accuracy: 0.8393 - val_loss: 0.3854 - val_accuracy: 0.8214\n",
      "Epoch 51/100\n",
      "18/18 [==============================] - 0s 5ms/step - loss: 0.3720 - accuracy: 0.8411 - val_loss: 0.3629 - val_accuracy: 0.8500\n",
      "Epoch 52/100\n",
      "18/18 [==============================] - 0s 6ms/step - loss: 0.3689 - accuracy: 0.8429 - val_loss: 0.3719 - val_accuracy: 0.8643\n",
      "Epoch 53/100\n",
      "18/18 [==============================] - 0s 6ms/step - loss: 0.3770 - accuracy: 0.8482 - val_loss: 0.3813 - val_accuracy: 0.8429\n",
      "Epoch 54/100\n",
      "18/18 [==============================] - 0s 4ms/step - loss: 0.3739 - accuracy: 0.8446 - val_loss: 0.3756 - val_accuracy: 0.8429\n",
      "Epoch 55/100\n",
      "18/18 [==============================] - 0s 4ms/step - loss: 0.4150 - accuracy: 0.8125 - val_loss: 0.4085 - val_accuracy: 0.8357\n",
      "Epoch 56/100\n",
      "18/18 [==============================] - 0s 4ms/step - loss: 0.3705 - accuracy: 0.8179 - val_loss: 0.4169 - val_accuracy: 0.8286\n",
      "Epoch 57/100\n",
      "18/18 [==============================] - 0s 4ms/step - loss: 0.3863 - accuracy: 0.8250 - val_loss: 0.3829 - val_accuracy: 0.8429\n",
      "Epoch 58/100\n",
      "18/18 [==============================] - 0s 6ms/step - loss: 0.3686 - accuracy: 0.8446 - val_loss: 0.4455 - val_accuracy: 0.7500\n",
      "Epoch 59/100\n",
      "18/18 [==============================] - 0s 5ms/step - loss: 0.3725 - accuracy: 0.8357 - val_loss: 0.3617 - val_accuracy: 0.8429\n",
      "Epoch 60/100\n",
      "18/18 [==============================] - 0s 5ms/step - loss: 0.3889 - accuracy: 0.8161 - val_loss: 0.4887 - val_accuracy: 0.7786\n",
      "Epoch 61/100\n",
      "18/18 [==============================] - 0s 8ms/step - loss: 0.4535 - accuracy: 0.8000 - val_loss: 0.4245 - val_accuracy: 0.7857\n",
      "Epoch 62/100\n",
      "18/18 [==============================] - 0s 5ms/step - loss: 0.3807 - accuracy: 0.8375 - val_loss: 0.4093 - val_accuracy: 0.7786\n",
      "Epoch 63/100\n",
      "18/18 [==============================] - 0s 5ms/step - loss: 0.3674 - accuracy: 0.8500 - val_loss: 0.3761 - val_accuracy: 0.8500\n",
      "Epoch 64/100\n",
      "18/18 [==============================] - 0s 4ms/step - loss: 0.3730 - accuracy: 0.8464 - val_loss: 0.3823 - val_accuracy: 0.8643\n",
      "Epoch 65/100\n",
      "18/18 [==============================] - 0s 5ms/step - loss: 0.3795 - accuracy: 0.8411 - val_loss: 0.4420 - val_accuracy: 0.7929\n",
      "Epoch 66/100\n",
      "18/18 [==============================] - 0s 7ms/step - loss: 0.3825 - accuracy: 0.8268 - val_loss: 0.4644 - val_accuracy: 0.7714\n",
      "Epoch 67/100\n",
      "18/18 [==============================] - 0s 8ms/step - loss: 0.3776 - accuracy: 0.8446 - val_loss: 0.3869 - val_accuracy: 0.8143\n",
      "Epoch 68/100\n",
      "18/18 [==============================] - 0s 4ms/step - loss: 0.3821 - accuracy: 0.8304 - val_loss: 0.4600 - val_accuracy: 0.7571\n",
      "Epoch 69/100\n",
      "18/18 [==============================] - 0s 4ms/step - loss: 0.3945 - accuracy: 0.8268 - val_loss: 0.4156 - val_accuracy: 0.8357\n",
      "Epoch 70/100\n",
      "18/18 [==============================] - 0s 4ms/step - loss: 0.3588 - accuracy: 0.8536 - val_loss: 0.3616 - val_accuracy: 0.8643\n",
      "Epoch 71/100\n",
      "18/18 [==============================] - 0s 5ms/step - loss: 0.3554 - accuracy: 0.8536 - val_loss: 0.3785 - val_accuracy: 0.8500\n",
      "Epoch 72/100\n",
      "18/18 [==============================] - 0s 7ms/step - loss: 0.4062 - accuracy: 0.8179 - val_loss: 0.4500 - val_accuracy: 0.7929\n",
      "Epoch 73/100\n",
      "18/18 [==============================] - 0s 5ms/step - loss: 0.4000 - accuracy: 0.8196 - val_loss: 0.3987 - val_accuracy: 0.8286\n",
      "Epoch 74/100\n",
      "18/18 [==============================] - 0s 4ms/step - loss: 0.3638 - accuracy: 0.8446 - val_loss: 0.3726 - val_accuracy: 0.8643\n",
      "Epoch 75/100\n",
      "18/18 [==============================] - 0s 4ms/step - loss: 0.3623 - accuracy: 0.8429 - val_loss: 0.3741 - val_accuracy: 0.8357\n",
      "Epoch 76/100\n",
      "18/18 [==============================] - 0s 4ms/step - loss: 0.3543 - accuracy: 0.8643 - val_loss: 0.3693 - val_accuracy: 0.8571\n",
      "Epoch 77/100\n",
      "18/18 [==============================] - 0s 4ms/step - loss: 0.3466 - accuracy: 0.8589 - val_loss: 0.3853 - val_accuracy: 0.8500\n",
      "Epoch 78/100\n",
      "18/18 [==============================] - 0s 4ms/step - loss: 0.3730 - accuracy: 0.8375 - val_loss: 0.3789 - val_accuracy: 0.8357\n",
      "Epoch 79/100\n",
      "18/18 [==============================] - 0s 4ms/step - loss: 0.3636 - accuracy: 0.8536 - val_loss: 0.4214 - val_accuracy: 0.7786\n",
      "Epoch 80/100\n",
      "18/18 [==============================] - 0s 4ms/step - loss: 0.3751 - accuracy: 0.8214 - val_loss: 0.3828 - val_accuracy: 0.8643\n",
      "Epoch 81/100\n",
      "18/18 [==============================] - 0s 5ms/step - loss: 0.3752 - accuracy: 0.8286 - val_loss: 0.4362 - val_accuracy: 0.8143\n",
      "Epoch 82/100\n",
      "18/18 [==============================] - 0s 6ms/step - loss: 0.3748 - accuracy: 0.8321 - val_loss: 0.3921 - val_accuracy: 0.8643\n",
      "Epoch 83/100\n",
      "18/18 [==============================] - 0s 5ms/step - loss: 0.3550 - accuracy: 0.8643 - val_loss: 0.4006 - val_accuracy: 0.8500\n",
      "Epoch 84/100\n",
      "18/18 [==============================] - 0s 11ms/step - loss: 0.3772 - accuracy: 0.8375 - val_loss: 0.3891 - val_accuracy: 0.8429\n",
      "Epoch 85/100\n",
      "18/18 [==============================] - 0s 6ms/step - loss: 0.3489 - accuracy: 0.8589 - val_loss: 0.4019 - val_accuracy: 0.8214\n",
      "Epoch 86/100\n",
      "18/18 [==============================] - 0s 7ms/step - loss: 0.3558 - accuracy: 0.8357 - val_loss: 0.3637 - val_accuracy: 0.8429\n",
      "Epoch 87/100\n",
      "18/18 [==============================] - 0s 6ms/step - loss: 0.3599 - accuracy: 0.8643 - val_loss: 0.3972 - val_accuracy: 0.8357\n",
      "Epoch 88/100\n",
      "18/18 [==============================] - 0s 6ms/step - loss: 0.3872 - accuracy: 0.8250 - val_loss: 0.3722 - val_accuracy: 0.8500\n",
      "Epoch 89/100\n",
      "18/18 [==============================] - 0s 7ms/step - loss: 0.3540 - accuracy: 0.8429 - val_loss: 0.4684 - val_accuracy: 0.7929\n",
      "Epoch 90/100\n",
      "18/18 [==============================] - 0s 8ms/step - loss: 0.3986 - accuracy: 0.8250 - val_loss: 0.4048 - val_accuracy: 0.8143\n",
      "Epoch 91/100\n",
      "18/18 [==============================] - 0s 7ms/step - loss: 0.4024 - accuracy: 0.8268 - val_loss: 0.3806 - val_accuracy: 0.8714\n",
      "Epoch 92/100\n",
      "18/18 [==============================] - 0s 7ms/step - loss: 0.3795 - accuracy: 0.8339 - val_loss: 0.4252 - val_accuracy: 0.8286\n",
      "Epoch 93/100\n",
      "18/18 [==============================] - 0s 9ms/step - loss: 0.3906 - accuracy: 0.8268 - val_loss: 0.3915 - val_accuracy: 0.8500\n",
      "Epoch 94/100\n",
      "18/18 [==============================] - 0s 4ms/step - loss: 0.3631 - accuracy: 0.8500 - val_loss: 0.4015 - val_accuracy: 0.7929\n",
      "Epoch 95/100\n",
      "18/18 [==============================] - 0s 4ms/step - loss: 0.3586 - accuracy: 0.8589 - val_loss: 0.4124 - val_accuracy: 0.8071\n",
      "Epoch 96/100\n",
      "18/18 [==============================] - 0s 5ms/step - loss: 0.3523 - accuracy: 0.8607 - val_loss: 0.3839 - val_accuracy: 0.8714\n"
     ]
    }
   ],
   "source": [
    "#use sequential neural net\n",
    "model = Sequential()\n",
    "model.add(Dense(100,activation=\"relu\",input_dim=13))\n",
    "model.add(Dense(64,activation=\"relu\"))\n",
    "model.add(Dense(32,activation=\"relu\"))\n",
    "model.add(Dense(16,activation=\"relu\"))\n",
    "model.add(Dense(1,activation=\"sigmoid\"))\n",
    "opt = tf.keras.optimizers.Adam(learning_rate=0.001)\n",
    "SOP = StopOnPoint()\n",
    "model.compile(optimizer=opt,loss=\"binary_crossentropy\",metrics=['accuracy'])\n",
    "fit = model.fit(x_train,y_train,epochs=100,validation_split=0.2,verbose=1,callbacks=[SOP])"
   ]
  },
  {
   "cell_type": "code",
   "execution_count": 275,
   "metadata": {},
   "outputs": [
    {
     "data": {
      "text/plain": [
       "[<matplotlib.lines.Line2D at 0x1c9573b3cd0>]"
      ]
     },
     "execution_count": 275,
     "metadata": {},
     "output_type": "execute_result"
    },
    {
     "data": {
      "image/png": "[encoded data removed]",
      "text/plain": [
       "<Figure size 842.4x595.44 with 1 Axes>"
      ]
     },
     "metadata": {},
     "output_type": "display_data"
    }
   ],
   "source": [
    "#plot development of training and validation accuracy across different epochs\n",
    "plt.plot(fit.history['val_accuracy'])\n",
    "plt.plot(fit.history['accuracy'])"
   ]
  },
  {
   "cell_type": "code",
   "execution_count": 283,
   "metadata": {},
   "outputs": [],
   "source": [
    "#predict probabilities and classes\n",
    "y_prob_nn = model.predict(x_test)\n",
    "y_p_nn = [1 if i>= 0.5 else 0 for i in y_prob_nn]"
   ]
  },
  {
   "cell_type": "code",
   "execution_count": 285,
   "metadata": {},
   "outputs": [
    {
     "name": "stdout",
     "output_type": "stream",
     "text": [
      "test accuracy: 0.84, ROC AUC: 0.8847926267281105\n"
     ]
    }
   ],
   "source": [
    "print(f\"test accuracy: {accuracy_score(y_p_nn,y_test)}, ROC AUC: {roc_auc_score(y_test,y_prob_nn)}\")"
   ]
  },
  {
   "cell_type": "code",
   "execution_count": 292,
   "metadata": {},
   "outputs": [],
   "source": [
    "fpr_rfr, tpr_rfr, treshold_rfr = roc_curve(y_test,y_prob_rfr[:, 1])\n",
    "fpr_gbm, tpr_gbm, treshold_gbm = roc_curve(y_test,y_prob_gbm[:, 1])\n",
    "fpr_nn, tpr_nn, treshold_nn = roc_curve(y_test,y_prob_nn)"
   ]
  },
  {
   "cell_type": "code",
   "execution_count": 291,
   "metadata": {},
   "outputs": [
    {
     "data": {
      "image/png": "[encoded data removed]",
      "text/plain": [
       "<Figure size 842.4x595.44 with 1 Axes>"
      ]
     },
     "metadata": {},
     "output_type": "display_data"
    }
   ],
   "source": [
    "#create ROC curve for all 3 models\n",
    "plt.plot(fpr_rfr,tpr_rfr,label=\"Random Forest\")\n",
    "plt.ylabel('True Positive Rate')\n",
    "plt.xlabel('False Positive Rate')\n",
    "\n",
    "plt.plot(fpr_gbm,tpr_gbm,label=\"Gradient Boosting\")\n",
    "plt.ylabel('True Positive Rate')\n",
    "plt.xlabel('False Positive Rate')\n",
    "\n",
    "plt.plot(fpr_nn,tpr_nn,label=\"Neural Net\")\n",
    "plt.ylabel('True Positive Rate')\n",
    "plt.xlabel('False Positive Rate')\n",
    "plt.legend()\n",
    "plt.show()"
   ]
  },
  {
   "cell_type": "code",
   "execution_count": 353,
   "metadata": {},
   "outputs": [],
   "source": [
    "#define function for findig optimal cuttof based on ROC\n",
    "def opt_treshold(tpr,fpr,treshold):\n",
    "    opt_idx = np.argmax(tpr - fpr)\n",
    "    opt_treshold = treshold[opt_idx]\n",
    "    return opt_treshold"
   ]
  },
  {
   "cell_type": "code",
   "execution_count": 354,
   "metadata": {},
   "outputs": [],
   "source": [
    "opt_treshold_rfr = opt_treshold(tpr_rfr,fpr_rfr,treshold_rfr)\n",
    "opt_treshold_gbm =  opt_treshold(tpr_gbm,fpr_gbm,treshold_gbm)\n",
    "opt_treshold_nn =  opt_treshold(tpr_nn,fpr_nn,treshold_nn)"
   ]
  },
  {
   "cell_type": "code",
   "execution_count": 325,
   "metadata": {},
   "outputs": [],
   "source": [
    "def percent_CM(pred):\n",
    "    CM = confusion_matrix(y_test,pred)\n",
    "    return CM/np.sum(CM)"
   ]
  },
  {
   "cell_type": "code",
   "execution_count": 351,
   "metadata": {},
   "outputs": [],
   "source": [
    "#get predicted classes for each model with its optimal ROC cutoff\n",
    "pred_opt_tr_rfr = [1 if i >= opt_treshold_rfr else 0 for i in y_prob_rfr[:, 1]]\n",
    "pred_opt_tr_gbm= [1 if i >= opt_treshold_gbm else 0 for i in y_prob_gbm[:, 1]]\n",
    "pred_opt_tr_nn = [1 if i >= opt_treshold_nn else 0 for i in y_prob_nn]"
   ]
  },
  {
   "cell_type": "code",
   "execution_count": 336,
   "metadata": {},
   "outputs": [],
   "source": [
    "CM_rfr_opt = percent_CM(pred_opt_tr_rfr)\n",
    "CM_gbm_opt = percent_CM(pred_opt_tr_gbm)\n",
    "CM_nn_opt = percent_CM(pred_opt_tr_nn)"
   ]
  },
  {
   "cell_type": "code",
   "execution_count": 337,
   "metadata": {},
   "outputs": [
    {
     "data": {
      "image/png": "[encoded data removed]",
      "text/plain": [
       "<Figure size 1224x432 with 6 Axes>"
      ]
     },
     "metadata": {},
     "output_type": "display_data"
    }
   ],
   "source": [
    "#plot percentual confusion matrices\n",
    "fig, (ax1,ax2,ax3) = plt.subplots(1,3,figsize=(17,6))\n",
    "sns.heatmap(CM_rfr_opt, annot=True, fmt='.2%', cmap='Blues',ax=ax1)\n",
    "sns.heatmap(CM_gbm_opt, annot=True, fmt='.2%', cmap='Blues',ax=ax2)\n",
    "sns.heatmap(CM_nn_opt, annot=True, fmt='.2%', cmap='Blues',ax=ax3)\n",
    "plt.show()"
   ]
  },
  {
   "cell_type": "code",
   "execution_count": 355,
   "metadata": {},
   "outputs": [
    {
     "name": "stdout",
     "output_type": "stream",
     "text": [
      "Random Forest accuracy of 0.8066666666666666 on cut off 0.29489125292884233\n",
      "Gradient Boosting accuracy of 0.8 on cut off 0.22499683875626145\n",
      "Neural Net accuracy of 0.81 on cut off 0.4929178059101105\n"
     ]
    }
   ],
   "source": [
    "print(f\"Random Forest accuracy of {accuracy_score(pred_opt_tr_rfr,y_test)} on cut off {opt_treshold_rfr}\")\n",
    "print(f\"Gradient Boosting accuracy of {accuracy_score(pred_opt_tr_gbm,y_test)} on cut off {opt_treshold_gbm}\")\n",
    "print(f\"Neural Net accuracy of {accuracy_score(pred_opt_tr_nn,y_test)} on cut off {opt_treshold_nn}\")"
   ]
  },
  {
   "cell_type": "code",
   "execution_count": 362,
   "metadata": {},
   "outputs": [
    {
     "name": "stdout",
     "output_type": "stream",
     "text": [
      "Probability of success for the quotation is  0.6343261243726487\n"
     ]
    }
   ],
   "source": [
    "#get answer on your question\n",
    "array = np.array([7,14,8,8,5,120,1,0,0,0,0,0,0])\n",
    "print(f\"Probability of success for the quotation is \", gbm.predict_proba(array.reshape(1,-1))[0][1])"
   ]
  }
 ],
 "metadata": {
  "kernelspec": {
   "display_name": "Python 3",
   "language": "python",
   "name": "python3"
  },
  "language_info": {
   "codemirror_mode": {
    "name": "ipython",
    "version": 3
   },
   "file_extension": ".py",
   "mimetype": "text/x-python",
   "name": "python",
   "nbconvert_exporter": "python",
   "pygments_lexer": "ipython3",
   "version": "3.8.5"
  }
 },
 "nbformat": 4,
 "nbformat_minor": 4
}
